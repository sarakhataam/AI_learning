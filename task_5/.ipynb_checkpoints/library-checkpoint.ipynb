{
 "cells": [
  {
   "cell_type": "code",
   "execution_count": 196,
   "id": "eeed8a5e",
   "metadata": {},
   "outputs": [],
   "source": [
    "class Author:\n",
    "    __id_author = 0\n",
    "    def __init__(self,name,phone,email):\n",
    "        Author.__id_author += 1\n",
    "        self.id = Author.__id_author\n",
    "        self.name = name\n",
    "        self.phone = phone\n",
    "        self.email = email"
   ]
  },
  {
   "cell_type": "code",
   "execution_count": 197,
   "id": "d1520c83",
   "metadata": {},
   "outputs": [],
   "source": [
    "class Book:\n",
    "    __id_book = 0\n",
    "    def __init__(self,title,publishing_date,version,id_author):\n",
    "        Book.__id_book += 1\n",
    "        self.id =Book.__id_book\n",
    "        self.title = title\n",
    "        self.publishing_date = publishing_date\n",
    "        self.version = version\n",
    "        self.id_author = id_author"
   ]
  },
  {
   "cell_type": "code",
   "execution_count": 198,
   "id": "9ae23171",
   "metadata": {},
   "outputs": [],
   "source": [
    "class Library:\n",
    "    Author = []\n",
    "    Book = []\n",
    "    def add_author(self ,author):\n",
    "        self.Author.append(author)\n",
    "    \n",
    "    def remove_author(self,id):\n",
    "        for author in self.Author:\n",
    "            if author.id == id:\n",
    "                self.Author.remove(author)\n",
    "                return\n",
    "        print(\"Author with id :\",id,\" is not found\")\n",
    "    \n",
    "    def print_author_with_id(self,id):\n",
    "        for author in self.Author:\n",
    "            if author.id == id:\n",
    "                print(\"name: \", author.name,\"\\n\",\"phone: \", author.phone,\"\\n\",\"email: \",author.email)\n",
    "                return\n",
    "        print(\"Author with id :\",id,\" is not found\")\n",
    "    \n",
    "    def print_authors(self):\n",
    "        for author in self.Author:\n",
    "           print(\"name: \", author.name,\"\\n\",\"phone: \", author.phone,\"\\n\",\"email: \",author.email)\n",
    "\n",
    "    def add_book(self ,book):\n",
    "        self.Book.append(book)\n",
    "    \n",
    "    def remove_book(self,id):\n",
    "        for book in self.Book:\n",
    "            if book.id == id:\n",
    "                self.Book.remove(book)\n",
    "                return\n",
    "        print(\"BOOK with id :\",id,\" is not found\")\n",
    "    \n",
    "    def print_book_with_id(self,id):\n",
    "        for book in self.Book:\n",
    "            if book.id == id:\n",
    "                print(\"Title: \", book.title,\"\\n\",\"published_data :\",book.publishing_date,\"\\n\",\"version: \",book.version)\n",
    "                for author in self.Author:\n",
    "                    if author.id == book.id_author:\n",
    "                        print(\"Author: \",author.name)\n",
    "                        return\n",
    "                return\n",
    "        print(\"book with id :\",id,\" is not found\")\n",
    "    \n",
    "    def print_books(self):\n",
    "        \n",
    "        for book in self.Book:\n",
    "            print(\"Title: \", book.title,\"\\n\",\"published_data :\",book.publishing_date,\"\\n\",\"version: \",book.version)\n",
    "            for author in self.Author:\n",
    "                if author.id == book.id_author:\n",
    "                    print(\"Author: \",author.name)\n",
    "                    break\n",
    "                    \n",
    "    def print_author_books(self, id):\n",
    "        is_author_exist =0\n",
    "        author_name=\"\"\n",
    "        for author in self.Author:\n",
    "            if author.id == id:\n",
    "                is_author_exist=1\n",
    "                author_name= author.name\n",
    "                break\n",
    "        if is_author_exist ==0:\n",
    "            print(\"Author with id \",id,\"is not found\")\n",
    "            return\n",
    "        print (\"books of author\", author_name,\" : \")\n",
    "        for book in self.Book:\n",
    "            if book.id_author == id :\n",
    "                print(\"title : \",book.title)\n",
    "                print(\"------------------------------------\")\n",
    "                \n",
    "            \n",
    "              "
   ]
  },
  {
   "cell_type": "code",
   "execution_count": 199,
   "id": "544b31e9",
   "metadata": {},
   "outputs": [],
   "source": [
    "au1 = Author(\"sara\",\"012234586\",\"sara@yahoo.com\")\n",
    "au2 = Author(\"rana\",\"01223452355\",\"rana@yahoo.com\")\n",
    "au3 = Author(\"ali\",\"0122345555\",\"ali@yahoo.com\")\n",
    "au4 = Author(\"mostafa\",\"012234586\",\"mostafa@yahoo.com\")\n",
    "book_1 =Book(\"ski\",\"12/10/2020\",\"2\",1)\n",
    "book_2 =Book(\"the home\",\"1/6/2022\",\"5\",3)\n",
    "book_3 =Book(\"made your day\",\"5/8/2010\",\"3\",3)\n",
    "book_4 =Book(\"horrior\",\"2/9/2023\",\"5\",3)\n",
    "book_5 =Book(\"awosome\",\"12/11/2008\",\"2\",2)\n",
    "book_6 =Book(\"help\",\"1/1/2022\",\"12\",4)"
   ]
  },
  {
   "cell_type": "code",
   "execution_count": 200,
   "id": "88780aa1",
   "metadata": {},
   "outputs": [],
   "source": [
    "lib = Library()\n",
    "lib.add_author(au1)\n",
    "lib.add_author(au2)\n",
    "lib.add_author(au3)\n",
    "lib.add_author(au4)\n",
    "lib.add_book(book_1)\n",
    "lib.add_book(book_2)\n",
    "lib.add_book(book_3)\n",
    "lib.add_book(book_4)\n",
    "lib.add_book(book_5)\n",
    "lib.add_book(book_6)"
   ]
  },
  {
   "cell_type": "code",
   "execution_count": 201,
   "id": "1448a8bd",
   "metadata": {},
   "outputs": [
    {
     "name": "stdout",
     "output_type": "stream",
     "text": [
      "name:  sara \n",
      " phone:  012234586 \n",
      " email:  sara@yahoo.com\n",
      "name:  rana \n",
      " phone:  01223452355 \n",
      " email:  rana@yahoo.com\n",
      "name:  ali \n",
      " phone:  0122345555 \n",
      " email:  ali@yahoo.com\n",
      "name:  mostafa \n",
      " phone:  012234586 \n",
      " email:  mostafa@yahoo.com\n"
     ]
    }
   ],
   "source": [
    "lib.print_authors()"
   ]
  },
  {
   "cell_type": "code",
   "execution_count": 202,
   "id": "c9545b46",
   "metadata": {},
   "outputs": [
    {
     "name": "stdout",
     "output_type": "stream",
     "text": [
      "name:  rana \n",
      " phone:  01223452355 \n",
      " email:  rana@yahoo.com\n"
     ]
    }
   ],
   "source": [
    "lib.print_author_with_id(2)"
   ]
  },
  {
   "cell_type": "code",
   "execution_count": 203,
   "id": "74f149fe",
   "metadata": {},
   "outputs": [
    {
     "name": "stdout",
     "output_type": "stream",
     "text": [
      "Title:  ski \n",
      " published_data : 12/10/2020 \n",
      " version:  2\n",
      "Author:  sara\n",
      "Title:  the home \n",
      " published_data : 1/6/2022 \n",
      " version:  5\n",
      "Author:  ali\n",
      "Title:  made your day \n",
      " published_data : 5/8/2010 \n",
      " version:  3\n",
      "Author:  ali\n",
      "Title:  horrior \n",
      " published_data : 2/9/2023 \n",
      " version:  5\n",
      "Author:  ali\n",
      "Title:  awosome \n",
      " published_data : 12/11/2008 \n",
      " version:  2\n",
      "Author:  rana\n",
      "Title:  help \n",
      " published_data : 1/1/2022 \n",
      " version:  12\n",
      "Author:  mostafa\n"
     ]
    }
   ],
   "source": [
    "lib.print_books()"
   ]
  },
  {
   "cell_type": "code",
   "execution_count": 204,
   "id": "f5bf1575",
   "metadata": {},
   "outputs": [
    {
     "name": "stdout",
     "output_type": "stream",
     "text": [
      "Title:  the home \n",
      " published_data : 1/6/2022 \n",
      " version:  5\n",
      "Author:  ali\n"
     ]
    }
   ],
   "source": [
    "lib.print_book_with_id(2)"
   ]
  },
  {
   "cell_type": "code",
   "execution_count": 205,
   "id": "bfa79996",
   "metadata": {},
   "outputs": [
    {
     "name": "stdout",
     "output_type": "stream",
     "text": [
      "books of author ali  : \n",
      "title :  the home\n",
      "------------------------------------\n",
      "title :  made your day\n",
      "------------------------------------\n",
      "title :  horrior\n",
      "------------------------------------\n"
     ]
    }
   ],
   "source": [
    "lib.print_author_books(3)"
   ]
  },
  {
   "cell_type": "code",
   "execution_count": null,
   "id": "345991c9",
   "metadata": {},
   "outputs": [],
   "source": []
  },
  {
   "cell_type": "code",
   "execution_count": null,
   "id": "7a428fc2",
   "metadata": {},
   "outputs": [],
   "source": []
  },
  {
   "cell_type": "code",
   "execution_count": null,
   "id": "81b6b766",
   "metadata": {},
   "outputs": [],
   "source": []
  },
  {
   "cell_type": "code",
   "execution_count": null,
   "id": "39be8115",
   "metadata": {},
   "outputs": [],
   "source": []
  },
  {
   "cell_type": "code",
   "execution_count": null,
   "id": "1b72ab60",
   "metadata": {},
   "outputs": [],
   "source": []
  },
  {
   "cell_type": "code",
   "execution_count": null,
   "id": "caa5045f",
   "metadata": {},
   "outputs": [],
   "source": []
  },
  {
   "cell_type": "code",
   "execution_count": null,
   "id": "bf054b6f",
   "metadata": {},
   "outputs": [],
   "source": []
  },
  {
   "cell_type": "code",
   "execution_count": null,
   "id": "2601c7fc",
   "metadata": {},
   "outputs": [],
   "source": []
  }
 ],
 "metadata": {
  "kernelspec": {
   "display_name": "Python 3 (ipykernel)",
   "language": "python",
   "name": "python3"
  },
  "language_info": {
   "codemirror_mode": {
    "name": "ipython",
    "version": 3
   },
   "file_extension": ".py",
   "mimetype": "text/x-python",
   "name": "python",
   "nbconvert_exporter": "python",
   "pygments_lexer": "ipython3",
   "version": "3.10.9"
  },
  "varInspector": {
   "cols": {
    "lenName": 16,
    "lenType": 16,
    "lenVar": 40
   },
   "kernels_config": {
    "python": {
     "delete_cmd_postfix": "",
     "delete_cmd_prefix": "del ",
     "library": "var_list.py",
     "varRefreshCmd": "print(var_dic_list())"
    },
    "r": {
     "delete_cmd_postfix": ") ",
     "delete_cmd_prefix": "rm(",
     "library": "var_list.r",
     "varRefreshCmd": "cat(var_dic_list()) "
    }
   },
   "types_to_exclude": [
    "module",
    "function",
    "builtin_function_or_method",
    "instance",
    "_Feature"
   ],
   "window_display": false
  }
 },
 "nbformat": 4,
 "nbformat_minor": 5
}
